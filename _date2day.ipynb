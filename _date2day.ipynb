{
 "cells": [
  {
   "cell_type": "markdown",
   "metadata": {},
   "source": [
    "# returns weekday of a given date"
   ]
  },
  {
   "cell_type": "code",
   "execution_count": 45,
   "metadata": {},
   "outputs": [
    {
     "name": "stdout",
     "output_type": "stream",
     "text": [
      "Now    2019-07-27 02:26:25.765340 \n",
      "\n",
      "Date   1990-04-01 00:00:00\n",
      "Day    Sun\n"
     ]
    }
   ],
   "source": [
    "# for class: calender'\n",
    "\n",
    "#https://stackoverflow.com/questions/13943062/extract-day-of-year-and-julian-day-from-a-string-date\n",
    "#https://docs.python.org/3.5/library/datetime.html\n",
    "\n",
    "import datetime\n",
    "\n",
    "Present = datetime.datetime.today()\n",
    "print(\"Now   \", Present, '\\n')\n",
    "\n",
    "fmt = '%d-%m-%Y'\n",
    "dstring = '01-04-1990' # ----------------------------<enter value>\n",
    "dt = datetime.datetime.strptime(dstring, fmt)\n",
    "print(\"Date  \", dt)\n",
    "\n",
    "\n",
    "#date.weekday()\n",
    "days=dict()\n",
    "daylist=['Mon', 'Tue', 'Wed', 'Thu', 'Fri', 'Sat', 'Sun']\n",
    "for i in range(0,7):\n",
    "    days[i]=daylist[i]\n",
    "#print(\"Day Map:\", days)\n",
    "\n",
    "dno = dt.weekday()\n",
    "print(\"Day   \", days[dno]) # --------------------[answer]\n",
    "\n",
    "\n",
    "\n",
    "## sample print: print(\"%.2f kg = %.2f lb = %.2f gal = %.2f l\" % (1, 2, 3, 4))"
   ]
  },
  {
   "cell_type": "code",
   "execution_count": null,
   "metadata": {},
   "outputs": [],
   "source": [
    "\n",
    "\n",
    "    "
   ]
  },
  {
   "cell_type": "code",
   "execution_count": null,
   "metadata": {},
   "outputs": [],
   "source": []
  }
 ],
 "metadata": {
  "kernelspec": {
   "display_name": "Python [conda env:ai]",
   "language": "python",
   "name": "conda-env-ai-py"
  },
  "language_info": {
   "codemirror_mode": {
    "name": "ipython",
    "version": 3
   },
   "file_extension": ".py",
   "mimetype": "text/x-python",
   "name": "python",
   "nbconvert_exporter": "python",
   "pygments_lexer": "ipython3",
   "version": "3.7.3"
  }
 },
 "nbformat": 4,
 "nbformat_minor": 2
}
